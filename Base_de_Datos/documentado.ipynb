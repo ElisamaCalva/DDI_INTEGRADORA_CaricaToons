{
 "cells": [
  {
   "cell_type": "markdown",
   "id": "bfbdfbfe",
   "metadata": {},
   "source": [
    "# Sistemas de Recomendación"
   ]
  },
  {
   "cell_type": "markdown",
   "id": "51df1049",
   "metadata": {},
   "source": [
    "## Ingenieria en Desarollo y Gestion de Software 9ºA"
   ]
  },
  {
   "cell_type": "markdown",
   "id": "2df79d96",
   "metadata": {},
   "source": [
    "## Creado por:  Eliel Díaz Galindo 200327\n"
   ]
  },
  {
   "cell_type": "markdown",
   "id": "0dcc6883",
   "metadata": {},
   "source": [
    "#### Práctica No.  19 : Carga de Datos de dataset\n"
   ]
  },
  {
   "cell_type": "code",
   "execution_count": 1,
   "id": "0b485395",
   "metadata": {},
   "outputs": [],
   "source": [
    "import pandas as pd #Esta línea de código importa la librería pandas y le asigna el alias \"pd\". Esta es una práctica común para hacer que el código sea más corto y fácil de leer al usar las funciones de pandas."
   ]
  },
  {
   "cell_type": "code",
   "execution_count": 64,
   "id": "4df1e4af",
   "metadata": {},
   "outputs": [],
   "source": [
    "df = pd.read_csv(\"C:\\\\Users\\\\PC 15\\\\Desktop\\\\ml-100k\\\\u.data.csv\", delimiter=\"\\t\", header=None)"
   ]
  },
  {
   "cell_type": "code",
   "execution_count": 65,
   "id": "64672823",
   "metadata": {},
   "outputs": [
    {
     "data": {
      "text/plain": [
       "pandas.core.frame.DataFrame"
      ]
     },
     "execution_count": 65,
     "metadata": {},
     "output_type": "execute_result"
    }
   ],
   "source": [
    "type(df)"
   ]
  },
  {
   "cell_type": "code",
   "execution_count": 66,
   "id": "5a01666c",
   "metadata": {},
   "outputs": [
    {
     "data": {
      "text/html": [
       "<div>\n",
       "<style scoped>\n",
       "    .dataframe tbody tr th:only-of-type {\n",
       "        vertical-align: middle;\n",
       "    }\n",
       "\n",
       "    .dataframe tbody tr th {\n",
       "        vertical-align: top;\n",
       "    }\n",
       "\n",
       "    .dataframe thead th {\n",
       "        text-align: right;\n",
       "    }\n",
       "</style>\n",
       "<table border=\"1\" class=\"dataframe\">\n",
       "  <thead>\n",
       "    <tr style=\"text-align: right;\">\n",
       "      <th></th>\n",
       "      <th>0</th>\n",
       "      <th>1</th>\n",
       "      <th>2</th>\n",
       "      <th>3</th>\n",
       "    </tr>\n",
       "  </thead>\n",
       "  <tbody>\n",
       "    <tr>\n",
       "      <th>0</th>\n",
       "      <td>196</td>\n",
       "      <td>242</td>\n",
       "      <td>3</td>\n",
       "      <td>881250949</td>\n",
       "    </tr>\n",
       "    <tr>\n",
       "      <th>1</th>\n",
       "      <td>186</td>\n",
       "      <td>302</td>\n",
       "      <td>3</td>\n",
       "      <td>891717742</td>\n",
       "    </tr>\n",
       "    <tr>\n",
       "      <th>2</th>\n",
       "      <td>22</td>\n",
       "      <td>377</td>\n",
       "      <td>1</td>\n",
       "      <td>878887116</td>\n",
       "    </tr>\n",
       "    <tr>\n",
       "      <th>3</th>\n",
       "      <td>244</td>\n",
       "      <td>51</td>\n",
       "      <td>2</td>\n",
       "      <td>880606923</td>\n",
       "    </tr>\n",
       "    <tr>\n",
       "      <th>4</th>\n",
       "      <td>166</td>\n",
       "      <td>346</td>\n",
       "      <td>1</td>\n",
       "      <td>886397596</td>\n",
       "    </tr>\n",
       "  </tbody>\n",
       "</table>\n",
       "</div>"
      ],
      "text/plain": [
       "     0    1  2          3\n",
       "0  196  242  3  881250949\n",
       "1  186  302  3  891717742\n",
       "2   22  377  1  878887116\n",
       "3  244   51  2  880606923\n",
       "4  166  346  1  886397596"
      ]
     },
     "execution_count": 66,
     "metadata": {},
     "output_type": "execute_result"
    }
   ],
   "source": [
    "df.head()"
   ]
  },
  {
   "cell_type": "code",
   "execution_count": 67,
   "id": "d02873d7",
   "metadata": {},
   "outputs": [
    {
     "data": {
      "text/plain": [
       "(100000, 4)"
      ]
     },
     "execution_count": 67,
     "metadata": {},
     "output_type": "execute_result"
    }
   ],
   "source": [
    "df.shape #La función df.shape en el contexto de la biblioteca Pandas en Python se utiliza para obtener la dimensión de un DataFrame, que es una estructura de datos bidimensional similar a una tabla. La función devuelve una tupla que contiene dos valores: el número de filas y el número de columnas en el DataFrame."
   ]
  },
  {
   "cell_type": "code",
   "execution_count": 68,
   "id": "0c85ee04",
   "metadata": {},
   "outputs": [
    {
     "data": {
      "text/plain": [
       "Int64Index([0, 1, 2, 3], dtype='int64')"
      ]
     },
     "execution_count": 68,
     "metadata": {},
     "output_type": "execute_result"
    }
   ],
   "source": [
    "df.columns"
   ]
  },
  {
   "cell_type": "code",
   "execution_count": 69,
   "id": "691027db",
   "metadata": {},
   "outputs": [],
   "source": [
    "df.columns = [\"UserID\", \"ItemID\", \"Rating\", \"TimeStamp\"]#puedes usar la línea de código que proporcionaste para cambiar los nombres de las columnas a \"UserID\", \"ItemID\", \"Rating\" y \"TimeStamp\""
   ]
  },
  {
   "cell_type": "code",
   "execution_count": 70,
   "id": "2e459d90",
   "metadata": {},
   "outputs": [
    {
     "data": {
      "text/html": [
       "<div>\n",
       "<style scoped>\n",
       "    .dataframe tbody tr th:only-of-type {\n",
       "        vertical-align: middle;\n",
       "    }\n",
       "\n",
       "    .dataframe tbody tr th {\n",
       "        vertical-align: top;\n",
       "    }\n",
       "\n",
       "    .dataframe thead th {\n",
       "        text-align: right;\n",
       "    }\n",
       "</style>\n",
       "<table border=\"1\" class=\"dataframe\">\n",
       "  <thead>\n",
       "    <tr style=\"text-align: right;\">\n",
       "      <th></th>\n",
       "      <th>UserID</th>\n",
       "      <th>ItemID</th>\n",
       "      <th>Rating</th>\n",
       "      <th>TimeStamp</th>\n",
       "    </tr>\n",
       "  </thead>\n",
       "  <tbody>\n",
       "    <tr>\n",
       "      <th>0</th>\n",
       "      <td>196</td>\n",
       "      <td>242</td>\n",
       "      <td>3</td>\n",
       "      <td>881250949</td>\n",
       "    </tr>\n",
       "    <tr>\n",
       "      <th>1</th>\n",
       "      <td>186</td>\n",
       "      <td>302</td>\n",
       "      <td>3</td>\n",
       "      <td>891717742</td>\n",
       "    </tr>\n",
       "    <tr>\n",
       "      <th>2</th>\n",
       "      <td>22</td>\n",
       "      <td>377</td>\n",
       "      <td>1</td>\n",
       "      <td>878887116</td>\n",
       "    </tr>\n",
       "    <tr>\n",
       "      <th>3</th>\n",
       "      <td>244</td>\n",
       "      <td>51</td>\n",
       "      <td>2</td>\n",
       "      <td>880606923</td>\n",
       "    </tr>\n",
       "    <tr>\n",
       "      <th>4</th>\n",
       "      <td>166</td>\n",
       "      <td>346</td>\n",
       "      <td>1</td>\n",
       "      <td>886397596</td>\n",
       "    </tr>\n",
       "  </tbody>\n",
       "</table>\n",
       "</div>"
      ],
      "text/plain": [
       "   UserID  ItemID  Rating  TimeStamp\n",
       "0     196     242       3  881250949\n",
       "1     186     302       3  891717742\n",
       "2      22     377       1  878887116\n",
       "3     244      51       2  880606923\n",
       "4     166     346       1  886397596"
      ]
     },
     "execution_count": 70,
     "metadata": {},
     "output_type": "execute_result"
    }
   ],
   "source": [
    "df.head()\n"
   ]
  },
  {
   "cell_type": "markdown",
   "id": "292e6789",
   "metadata": {},
   "source": [
    "### Práctica No.  20 : Análisis Exploratorio de los Datos.\n"
   ]
  },
  {
   "cell_type": "code",
   "execution_count": 71,
   "id": "d7a6498b",
   "metadata": {},
   "outputs": [],
   "source": [
    "import matplotlib.pyplot as plt #se utiliza para importar el módulo matplotlib.pyplot en Python. Matplotlib es una librería ampliamente utilizada para la creación de gráficos y visualizaciones en Python. "
   ]
  },
  {
   "cell_type": "code",
   "execution_count": 72,
   "id": "079478e8",
   "metadata": {},
   "outputs": [
    {
     "data": {
      "text/plain": [
       "(array([ 6110.,     0., 11370.,     0.,     0., 27145.,     0., 34174.,\n",
       "            0., 21201.]),\n",
       " array([1. , 1.4, 1.8, 2.2, 2.6, 3. , 3.4, 3.8, 4.2, 4.6, 5. ]),\n",
       " <BarContainer object of 10 artists>)"
      ]
     },
     "execution_count": 72,
     "metadata": {},
     "output_type": "execute_result"
    },
    {
     "data": {
      "image/png": "[encoded data removed]",
      "text/plain": [
       "<Figure size 640x480 with 1 Axes>"
      ]
     },
     "metadata": {},
     "output_type": "display_data"
    }
   ],
   "source": [
    "plt.hist(df.Rating)"
   ]
  },
  {
   "cell_type": "code",
   "execution_count": 73,
   "id": "5ed8f047",
   "metadata": {},
   "outputs": [
    {
     "data": {
      "text/plain": [
       "(array([11459.,  5724., 19359.,  9315.,  9396., 10083.,  6175.,  9603.,\n",
       "        10048.,  8838.]),\n",
       " array([8.74724710e+08, 8.76580903e+08, 8.78437096e+08, 8.80293288e+08,\n",
       "        8.82149481e+08, 8.84005674e+08, 8.85861867e+08, 8.87718060e+08,\n",
       "        8.89574252e+08, 8.91430445e+08, 8.93286638e+08]),\n",
       " <BarContainer object of 10 artists>)"
      ]
     },
     "execution_count": 73,
     "metadata": {},
     "output_type": "execute_result"
    },
    {
     "data": {
      "image/png": "[encoded data removed]",
      "text/plain": [
       "<Figure size 640x480 with 1 Axes>"
      ]
     },
     "metadata": {},
     "output_type": "display_data"
    }
   ],
   "source": [
    "plt.hist(df.TimeStamp)"
   ]
  },
  {
   "cell_type": "code",
   "execution_count": 74,
   "id": "33358748",
   "metadata": {},
   "outputs": [
    {
     "data": {
      "text/plain": [
       "Rating\n",
       "1     6110\n",
       "2    11370\n",
       "3    27145\n",
       "4    34174\n",
       "5    21201\n",
       "Name: UserID, dtype: int64"
      ]
     },
     "execution_count": 74,
     "metadata": {},
     "output_type": "execute_result"
    }
   ],
   "source": [
    "df.groupby([\"Rating\"])[\"UserID\"].count()"
   ]
  },
  {
   "cell_type": "code",
   "execution_count": 75,
   "id": "7282284a",
   "metadata": {},
   "outputs": [
    {
     "data": {
      "text/plain": [
       "ItemID\n",
       "1       452\n",
       "2       131\n",
       "3        90\n",
       "4       209\n",
       "5        86\n",
       "       ... \n",
       "1678      1\n",
       "1679      1\n",
       "1680      1\n",
       "1681      1\n",
       "1682      1\n",
       "Name: ItemID, Length: 1682, dtype: int64"
      ]
     },
     "execution_count": 75,
     "metadata": {},
     "output_type": "execute_result"
    }
   ],
   "source": [
    "df.groupby([\"ItemID\"])[\"ItemID\"].count()"
   ]
  },
  {
   "cell_type": "code",
   "execution_count": 76,
   "id": "d0743cf6",
   "metadata": {},
   "outputs": [
    {
     "data": {
      "text/plain": [
       "(array([1.146e+03, 2.490e+02, 1.390e+02, 6.700e+01, 3.800e+01, 2.400e+01,\n",
       "        7.000e+00, 5.000e+00, 6.000e+00, 1.000e+00]),\n",
       " array([  1. ,  59.2, 117.4, 175.6, 233.8, 292. , 350.2, 408.4, 466.6,\n",
       "        524.8, 583. ]),\n",
       " <BarContainer object of 10 artists>)"
      ]
     },
     "execution_count": 76,
     "metadata": {},
     "output_type": "execute_result"
    },
    {
     "data": {
      "image/png": "[encoded data removed]",
      "text/plain": [
       "<Figure size 640x480 with 1 Axes>"
      ]
     },
     "metadata": {},
     "output_type": "display_data"
    }
   ],
   "source": [
    "plt.hist(df.groupby([\"ItemID\"])[\"ItemID\"].count())"
   ]
  },
  {
   "cell_type": "code",
   "execution_count": 77,
   "id": "77ea8126",
   "metadata": {},
   "outputs": [
    {
     "data": {
      "text/html": [
       "<div>\n",
       "<style scoped>\n",
       "    .dataframe tbody tr th:only-of-type {\n",
       "        vertical-align: middle;\n",
       "    }\n",
       "\n",
       "    .dataframe tbody tr th {\n",
       "        vertical-align: top;\n",
       "    }\n",
       "\n",
       "    .dataframe thead th {\n",
       "        text-align: right;\n",
       "    }\n",
       "</style>\n",
       "<table border=\"1\" class=\"dataframe\">\n",
       "  <thead>\n",
       "    <tr style=\"text-align: right;\">\n",
       "      <th></th>\n",
       "      <th>UserID</th>\n",
       "      <th>Rating</th>\n",
       "      <th>TimeStamp</th>\n",
       "    </tr>\n",
       "    <tr>\n",
       "      <th>ItemID</th>\n",
       "      <th></th>\n",
       "      <th></th>\n",
       "      <th></th>\n",
       "    </tr>\n",
       "  </thead>\n",
       "  <tbody>\n",
       "    <tr>\n",
       "      <th>1</th>\n",
       "      <td>452</td>\n",
       "      <td>452</td>\n",
       "      <td>452</td>\n",
       "    </tr>\n",
       "    <tr>\n",
       "      <th>2</th>\n",
       "      <td>131</td>\n",
       "      <td>131</td>\n",
       "      <td>131</td>\n",
       "    </tr>\n",
       "    <tr>\n",
       "      <th>3</th>\n",
       "      <td>90</td>\n",
       "      <td>90</td>\n",
       "      <td>90</td>\n",
       "    </tr>\n",
       "    <tr>\n",
       "      <th>4</th>\n",
       "      <td>209</td>\n",
       "      <td>209</td>\n",
       "      <td>209</td>\n",
       "    </tr>\n",
       "    <tr>\n",
       "      <th>5</th>\n",
       "      <td>86</td>\n",
       "      <td>86</td>\n",
       "      <td>86</td>\n",
       "    </tr>\n",
       "    <tr>\n",
       "      <th>...</th>\n",
       "      <td>...</td>\n",
       "      <td>...</td>\n",
       "      <td>...</td>\n",
       "    </tr>\n",
       "    <tr>\n",
       "      <th>1678</th>\n",
       "      <td>1</td>\n",
       "      <td>1</td>\n",
       "      <td>1</td>\n",
       "    </tr>\n",
       "    <tr>\n",
       "      <th>1679</th>\n",
       "      <td>1</td>\n",
       "      <td>1</td>\n",
       "      <td>1</td>\n",
       "    </tr>\n",
       "    <tr>\n",
       "      <th>1680</th>\n",
       "      <td>1</td>\n",
       "      <td>1</td>\n",
       "      <td>1</td>\n",
       "    </tr>\n",
       "    <tr>\n",
       "      <th>1681</th>\n",
       "      <td>1</td>\n",
       "      <td>1</td>\n",
       "      <td>1</td>\n",
       "    </tr>\n",
       "    <tr>\n",
       "      <th>1682</th>\n",
       "      <td>1</td>\n",
       "      <td>1</td>\n",
       "      <td>1</td>\n",
       "    </tr>\n",
       "  </tbody>\n",
       "</table>\n",
       "<p>1682 rows × 3 columns</p>\n",
       "</div>"
      ],
      "text/plain": [
       "        UserID  Rating  TimeStamp\n",
       "ItemID                           \n",
       "1          452     452        452\n",
       "2          131     131        131\n",
       "3           90      90         90\n",
       "4          209     209        209\n",
       "5           86      86         86\n",
       "...        ...     ...        ...\n",
       "1678         1       1          1\n",
       "1679         1       1          1\n",
       "1680         1       1          1\n",
       "1681         1       1          1\n",
       "1682         1       1          1\n",
       "\n",
       "[1682 rows x 3 columns]"
      ]
     },
     "execution_count": 77,
     "metadata": {},
     "output_type": "execute_result"
    }
   ],
   "source": [
    "df.groupby([\"ItemID\"]).count()"
   ]
  },
  {
   "cell_type": "code",
   "execution_count": 78,
   "id": "3f5c5ded",
   "metadata": {},
   "outputs": [
    {
     "data": {
      "text/html": [
       "<div>\n",
       "<style scoped>\n",
       "    .dataframe tbody tr th:only-of-type {\n",
       "        vertical-align: middle;\n",
       "    }\n",
       "\n",
       "    .dataframe tbody tr th {\n",
       "        vertical-align: top;\n",
       "    }\n",
       "\n",
       "    .dataframe thead th {\n",
       "        text-align: right;\n",
       "    }\n",
       "</style>\n",
       "<table border=\"1\" class=\"dataframe\">\n",
       "  <thead>\n",
       "    <tr style=\"text-align: right;\">\n",
       "      <th></th>\n",
       "      <th>UserID</th>\n",
       "      <th>ItemID</th>\n",
       "      <th>TimeStamp</th>\n",
       "    </tr>\n",
       "    <tr>\n",
       "      <th>Rating</th>\n",
       "      <th></th>\n",
       "      <th></th>\n",
       "      <th></th>\n",
       "    </tr>\n",
       "  </thead>\n",
       "  <tbody>\n",
       "    <tr>\n",
       "      <th>1</th>\n",
       "      <td>6110</td>\n",
       "      <td>6110</td>\n",
       "      <td>6110</td>\n",
       "    </tr>\n",
       "    <tr>\n",
       "      <th>2</th>\n",
       "      <td>11370</td>\n",
       "      <td>11370</td>\n",
       "      <td>11370</td>\n",
       "    </tr>\n",
       "    <tr>\n",
       "      <th>3</th>\n",
       "      <td>27145</td>\n",
       "      <td>27145</td>\n",
       "      <td>27145</td>\n",
       "    </tr>\n",
       "    <tr>\n",
       "      <th>4</th>\n",
       "      <td>34174</td>\n",
       "      <td>34174</td>\n",
       "      <td>34174</td>\n",
       "    </tr>\n",
       "    <tr>\n",
       "      <th>5</th>\n",
       "      <td>21201</td>\n",
       "      <td>21201</td>\n",
       "      <td>21201</td>\n",
       "    </tr>\n",
       "  </tbody>\n",
       "</table>\n",
       "</div>"
      ],
      "text/plain": [
       "        UserID  ItemID  TimeStamp\n",
       "Rating                           \n",
       "1         6110    6110       6110\n",
       "2        11370   11370      11370\n",
       "3        27145   27145      27145\n",
       "4        34174   34174      34174\n",
       "5        21201   21201      21201"
      ]
     },
     "execution_count": 78,
     "metadata": {},
     "output_type": "execute_result"
    }
   ],
   "source": [
    "df.groupby([\"Rating\"]).count()"
   ]
  },
  {
   "cell_type": "markdown",
   "id": "11a7edf9",
   "metadata": {},
   "source": [
    "### Practica21: Representación en forma Matricial"
   ]
  },
  {
   "cell_type": "code",
   "execution_count": 79,
   "id": "f66bd799",
   "metadata": {},
   "outputs": [],
   "source": [
    "import numpy as np #NumPy es una librería fundamental en el ecosistema de Python para la computación científica y numérica. Proporciona soporte para arrays multidimensionales (llamados arreglos en NumPy) y una amplia gama de funciones matemáticas y operaciones que son útiles para el procesamiento numérico y científico."
   ]
  },
  {
   "cell_type": "code",
   "execution_count": 80,
   "id": "c91fe063",
   "metadata": {},
   "outputs": [
    {
     "data": {
      "text/plain": [
       "943"
      ]
     },
     "execution_count": 80,
     "metadata": {},
     "output_type": "execute_result"
    }
   ],
   "source": [
    "n_users = df.UserID.unique().shape[0]\n",
    "n_users #En resumen, el código calcula la cantidad de usuarios únicos en el DataFrame df y almacena este valor en la variable n_users. Esto puede ser útil para entender cuántos usuarios diferentes están presentes en un conjunto de datos,"
   ]
  },
  {
   "cell_type": "code",
   "execution_count": 81,
   "id": "0280223f",
   "metadata": {
    "scrolled": true
   },
   "outputs": [
    {
     "data": {
      "text/plain": [
       "1682"
      ]
     },
     "execution_count": 81,
     "metadata": {},
     "output_type": "execute_result"
    }
   ],
   "source": [
    "n_items = df.ItemID.unique().shape[0]\n",
    "n_items #En resumen, el código calcula la cantidad de ítems únicos en el DataFrame df y almacena este valor en la variable n_items. Esto puede ser útil para comprender cuántos ítems distintos están presentes en un conjunto de datos, lo que puede ser relevante para análisis y modelado posteriores"
   ]
  },
  {
   "cell_type": "code",
   "execution_count": 82,
   "id": "a451be33",
   "metadata": {
    "scrolled": true
   },
   "outputs": [
    {
     "data": {
      "text/plain": [
       "array([[0., 0., 0., ..., 0., 0., 0.],\n",
       "       [0., 0., 0., ..., 0., 0., 0.],\n",
       "       [0., 0., 0., ..., 0., 0., 0.],\n",
       "       ...,\n",
       "       [0., 0., 0., ..., 0., 0., 0.],\n",
       "       [0., 0., 0., ..., 0., 0., 0.],\n",
       "       [0., 0., 0., ..., 0., 0., 0.]])"
      ]
     },
     "execution_count": 82,
     "metadata": {},
     "output_type": "execute_result"
    }
   ],
   "source": [
    "ratings = np.zeros((n_users, n_items))\n",
    "ratings # En otras palabras, estás creando una matriz donde las filas representan usuarios y las columnas representan ítems."
   ]
  },
  {
   "cell_type": "code",
   "execution_count": 83,
   "id": "e565064c",
   "metadata": {},
   "outputs": [],
   "source": [
    "for row in df.itertuples():\n",
    "    ratings[row[1]-1, row[2]-1] = row[3] #En resumen, este bucle recorre cada fila del DataFrame df, obtiene la calificación de esa fila y la coloca en la posición correspondiente en la matriz de calificaciones \"ratings\". Esto es típico en el proceso de preparación de datos para sistemas de recomendación, donde se crea una matriz de interacciones usuario-ítem y se llena con valores de calificación."
   ]
  },
  {
   "cell_type": "code",
   "execution_count": 84,
   "id": "24fbe3a6",
   "metadata": {},
   "outputs": [
    {
     "data": {
      "text/plain": [
       "numpy.ndarray"
      ]
     },
     "execution_count": 84,
     "metadata": {},
     "output_type": "execute_result"
    }
   ],
   "source": [
    "type(ratings)"
   ]
  },
  {
   "cell_type": "code",
   "execution_count": 85,
   "id": "79468062",
   "metadata": {},
   "outputs": [
    {
     "data": {
      "text/plain": [
       "(943, 1682)"
      ]
     },
     "execution_count": 85,
     "metadata": {},
     "output_type": "execute_result"
    }
   ],
   "source": [
    "ratings.shape"
   ]
  },
  {
   "cell_type": "code",
   "execution_count": 86,
   "id": "a07853aa",
   "metadata": {},
   "outputs": [
    {
     "data": {
      "text/plain": [
       "array([[5., 3., 4., ..., 0., 0., 0.],\n",
       "       [4., 0., 0., ..., 0., 0., 0.],\n",
       "       [0., 0., 0., ..., 0., 0., 0.],\n",
       "       ...,\n",
       "       [5., 0., 0., ..., 0., 0., 0.],\n",
       "       [0., 0., 0., ..., 0., 0., 0.],\n",
       "       [0., 5., 0., ..., 0., 0., 0.]])"
      ]
     },
     "execution_count": 86,
     "metadata": {},
     "output_type": "execute_result"
    }
   ],
   "source": [
    " ratings"
   ]
  },
  {
   "cell_type": "code",
   "execution_count": 87,
   "id": "0a496681",
   "metadata": {},
   "outputs": [
    {
     "name": "stdout",
     "output_type": "stream",
     "text": [
      "Coeficiente de sparseidad: 6.30%\n"
     ]
    }
   ],
   "source": [
    "sparsity = float(len(ratings.nonzero()[0]))\n",
    "sparsity /= (ratings.shape[0]*ratings.shape[1])\n",
    "sparsity *= 100\n",
    "print(\"Coeficiente de sparseidad: {:4.2f}%\".format(sparsity))#este código se utiliza para calcular y mostrar cuántos elementos en la matriz de calificaciones están ocupados en comparación con el total posible. Una matriz más \"densa\" tendría una esparcidad más baja, mientras que una matriz más \"dispersa\" tendría una esparcidad más alta. El coeficiente de esparcidad es útil para comprender cuántos valores de calificación son conocidos en relación con todos los valores posibles en un conjunto de datos, lo que puede influir en el diseño de sistemas de recomendación y análisis posteriores."
   ]
  },
  {
   "cell_type": "markdown",
   "id": "759430e4",
   "metadata": {},
   "source": [
    "## Practica 22: Crear Conjuntos de Entrenamiento y validacion para el algoritmo de recomendacion"
   ]
  },
  {
   "cell_type": "code",
   "execution_count": 88,
   "id": "fdd08db4",
   "metadata": {},
   "outputs": [],
   "source": [
    "from sklearn.model_selection import train_test_split #La función train_test_split se utiliza para dividir un conjunto de datos en dos subconjuntos: uno destinado al entrenamiento de un modelo y otro destinado a la evaluación del modelo."
   ]
  },
  {
   "cell_type": "code",
   "execution_count": 89,
   "id": "f9c479c7",
   "metadata": {},
   "outputs": [],
   "source": [
    "ratings_train, ratings_test = train_test_split(ratings, test_size=0.3, random_state=42) #n resumen, el código divide la matriz de calificaciones en dos subconjuntos: ratings_train, que se utilizará para entrenar un modelo, y ratings_test, que se utilizará para evaluar el rendimiento del modelo. "
   ]
  },
  {
   "cell_type": "code",
   "execution_count": 90,
   "id": "17830e3b",
   "metadata": {},
   "outputs": [
    {
     "data": {
      "text/plain": [
       "(660, 1682)"
      ]
     },
     "execution_count": 90,
     "metadata": {},
     "output_type": "execute_result"
    }
   ],
   "source": [
    "ratings_train.shape"
   ]
  },
  {
   "cell_type": "code",
   "execution_count": 91,
   "id": "9259fa7e",
   "metadata": {},
   "outputs": [
    {
     "data": {
      "text/plain": [
       "(283, 1682)"
      ]
     },
     "execution_count": 91,
     "metadata": {},
     "output_type": "execute_result"
    }
   ],
   "source": [
    "ratings_test.shape"
   ]
  },
  {
   "cell_type": "markdown",
   "id": "79542060",
   "metadata": {},
   "source": [
    "## Practica 23: Filtro colaborativo basado en Usuario.\n",
    "** Matris de similaridad entre los Usuarios(Distancia de consenos).\n",
    "\n",
    "** Predecir la valoracion desconocida para un item *i* para un usuario activo *u* basadonse en la suma ponderada de todas\n",
    "las valoraciones del resto de usuarios para dicho item\n",
    "\n",
    "** Recomendaremos los nuevos items a los usuarios segun lo establecido en los pasos anteriores"
   ]
  },
  {
   "cell_type": "code",
   "execution_count": 92,
   "id": "d9a41831",
   "metadata": {},
   "outputs": [],
   "source": [
    "import numpy as np\n",
    "import sklearn #En resumen, import numpy as np importa la librería NumPy, que es esencial para la computación numérica y científica. Y import sklearn importa la librería scikit-learn (sklearn), que es ampliamente utilizada para el desarrollo de modelos de aprendizaje automático y análisis de datos en Python."
   ]
  },
  {
   "cell_type": "code",
   "execution_count": 93,
   "id": "cb7124d3",
   "metadata": {},
   "outputs": [],
   "source": [
    "sim_matrix = 1 - sklearn.metrics.pairwise.cosine_distances(ratings_train)#se utiliza para calcular una matriz de similitud entre los datos de entrenamiento utilizando la distancia del coseno.La variable sim_matrix almacenará la matriz de similitud resultante, donde los valores más altos indican mayor similitud entre los elementos (filas) de ratings_train."
   ]
  },
  {
   "cell_type": "code",
   "execution_count": 94,
   "id": "68c19951",
   "metadata": {},
   "outputs": [
    {
     "data": {
      "text/plain": [
       "numpy.ndarray"
      ]
     },
     "execution_count": 94,
     "metadata": {},
     "output_type": "execute_result"
    }
   ],
   "source": [
    "type(sim_matrix)"
   ]
  },
  {
   "cell_type": "code",
   "execution_count": 95,
   "id": "ad9c9974",
   "metadata": {},
   "outputs": [
    {
     "data": {
      "text/plain": [
       "(660, 660)"
      ]
     },
     "execution_count": 95,
     "metadata": {},
     "output_type": "execute_result"
    }
   ],
   "source": [
    "sim_matrix.shape #Si utilizas sim_matrix.shape, obtendrás una tupla con dos valores: el número de filas y el número de columnas de la matriz de similitud."
   ]
  },
  {
   "cell_type": "code",
   "execution_count": 96,
   "id": "49e74b13",
   "metadata": {},
   "outputs": [
    {
     "data": {
      "text/plain": [
       "array([[1.        , 0.17448349, 0.18009754, ..., 0.13331459, 0.17695593,\n",
       "        0.21882481],\n",
       "       [0.17448349, 1.        , 0.07993097, ..., 0.07175808, 0.09552622,\n",
       "        0.05512655],\n",
       "       [0.18009754, 0.07993097, 1.        , ..., 0.0191736 , 0.02233385,\n",
       "        0.10310785],\n",
       "       ...,\n",
       "       [0.13331459, 0.07175808, 0.0191736 , ..., 1.        , 0.04853428,\n",
       "        0.05142508],\n",
       "       [0.17695593, 0.09552622, 0.02233385, ..., 0.04853428, 1.        ,\n",
       "        0.1198022 ],\n",
       "       [0.21882481, 0.05512655, 0.10310785, ..., 0.05142508, 0.1198022 ,\n",
       "        1.        ]])"
      ]
     },
     "execution_count": 96,
     "metadata": {},
     "output_type": "execute_result"
    }
   ],
   "source": [
    "sim_matrix"
   ]
  },
  {
   "cell_type": "code",
   "execution_count": 97,
   "id": "e5acde2f",
   "metadata": {},
   "outputs": [],
   "source": [
    "user_predictions = sim_matrix.dot(ratings_train) / np.array([np.abs(sim_matrix).sum(axis=1)]).T #En resumen, el código calcula las predicciones de calificación para los usuarios basadas en la similitud entre usuarios y las calificaciones de entrenamiento.se utiliza para calcular las predicciones de calificación para los usuarios basadas en la matriz de similitud y las calificaciones de entrenamiento."
   ]
  },
  {
   "cell_type": "code",
   "execution_count": 98,
   "id": "ed3aaf72",
   "metadata": {},
   "outputs": [
    {
     "data": {
      "text/plain": [
       "array([[2.10259747e+00, 5.86975978e-01, 3.40264192e-01, ...,\n",
       "        0.00000000e+00, 7.33611460e-03, 6.04379414e-03],\n",
       "       [1.40999723e+00, 2.91863934e-01, 2.68085289e-01, ...,\n",
       "        0.00000000e+00, 3.50378592e-03, 2.32963985e-03],\n",
       "       [1.69014833e+00, 3.13648440e-01, 3.26127887e-01, ...,\n",
       "        0.00000000e+00, 3.25391767e-03, 1.77210119e-03],\n",
       "       ...,\n",
       "       [1.73393747e+00, 4.06719333e-01, 3.21166908e-01, ...,\n",
       "        0.00000000e+00, 2.71269625e-03, 9.00511411e-03],\n",
       "       [2.34361031e+00, 8.10544770e-01, 4.73941025e-01, ...,\n",
       "        0.00000000e+00, 1.01130066e-02, 9.66427605e-03],\n",
       "       [2.36796969e+00, 5.98146138e-01, 3.85569804e-01, ...,\n",
       "        0.00000000e+00, 6.39996638e-03, 5.37442746e-03]])"
      ]
     },
     "execution_count": 98,
     "metadata": {},
     "output_type": "execute_result"
    }
   ],
   "source": [
    "user_predictions"
   ]
  },
  {
   "cell_type": "code",
   "execution_count": 99,
   "id": "bd7961e1",
   "metadata": {},
   "outputs": [
    {
     "data": {
      "text/plain": [
       "(660, 1682)"
      ]
     },
     "execution_count": 99,
     "metadata": {},
     "output_type": "execute_result"
    }
   ],
   "source": [
    "user_predictions.shape"
   ]
  },
  {
   "cell_type": "code",
   "execution_count": 100,
   "id": "8d6481d6",
   "metadata": {},
   "outputs": [],
   "source": [
    "from sklearn.metrics import mean_squared_error #n el contexto de sistemas de recomendación, puedes utilizar mean_squared_error para evaluar la calidad de las predicciones de calificación realizadas por tu modelo en comparación con las calificaciones reales de los usuarios."
   ]
  },
  {
   "cell_type": "code",
   "execution_count": 118,
   "id": "33709d07",
   "metadata": {},
   "outputs": [],
   "source": [
    "def get_mse(preds, actuals):\n",
    "    if preds.shape[0] != actuals.shape[0]:\n",
    "        actuals = actuals.T\n",
    "    preds = preds[actuals.nonzero()].flatten()\n",
    "    actuals = actuals[actuals.nonzero()].flatten()\n",
    "    return mean_squared_error(preds,actuals) #La función get_mse que proporcionaste se utiliza para calcular el error cuadrático medio (MSE) entre las predicciones y los valores reales, teniendo en cuenta las restricciones asociadas con las matrices dispersas. En resumen, flatten() se utiliza para convertir arrays multidimensionales en arrays unidimensionales."
   ]
  },
  {
   "cell_type": "code",
   "execution_count": 119,
   "id": "9a4f6113",
   "metadata": {},
   "outputs": [
    {
     "data": {
      "text/plain": [
       "7.878218313143215"
      ]
     },
     "execution_count": 119,
     "metadata": {},
     "output_type": "execute_result"
    }
   ],
   "source": [
    "get_mse(user_predictions, ratings_train)#utiliza la función get_mse que definiste previamente para calcular el error cuadrático medio (MSE) entre las predicciones (user_predictions) y las calificaciones de entrenamiento (ratings_train) en el contexto de un sistema de recomendación."
   ]
  },
  {
   "cell_type": "markdown",
   "id": "82eddac5",
   "metadata": {},
   "source": [
    "## Practica 24: Filtro colaborativo con los K-Nearest Neighbors(KNN)"
   ]
  },
  {
   "cell_type": "code",
   "execution_count": 120,
   "id": "9ddca495",
   "metadata": {},
   "outputs": [],
   "source": [
    "from sklearn.neighbors import NearestNeighbors #se utiliza para importar la clase NearestNeighbors de la librería scikit-learn (sklearn) en Python. La clase NearestNeighbors se utiliza para realizar búsqueda de vecinos cercanos en un conjunto de datos, lo que es útil en una variedad de aplicaciones, incluyendo sistemas de recomendación, agrupamiento (clustering), reducción de dimensionalidad y otros análisis de datos."
   ]
  },
  {
   "cell_type": "code",
   "execution_count": 137,
   "id": "8d4ccfba",
   "metadata": {},
   "outputs": [],
   "source": [
    "k = 6"
   ]
  },
  {
   "cell_type": "code",
   "execution_count": 138,
   "id": "02f9a57d",
   "metadata": {},
   "outputs": [],
   "source": [
    "neighbors = NearestNeighbors(n_neighbors=k, metric='cosine') #n_neighbors=k: Aquí, k es el número de vecinos más cercanos que deseas encontrar. Este valor controlará cuántos vecinos cercanos se considerarán al realizar búsquedas de vecinos.metric='cosine': Estás configurando la métrica de distancia a 'cosine', lo que significa que la búsqueda de vecinos cercanos se realizará utilizando la similitud del coseno como medida de distancia. "
   ]
  },
  {
   "cell_type": "code",
   "execution_count": 139,
   "id": "dae6d772",
   "metadata": {},
   "outputs": [
    {
     "data": {
      "text/html": [
       "<style>#sk-container-id-4 {color: black;background-color: white;}#sk-container-id-4 pre{padding: 0;}#sk-container-id-4 div.sk-toggleable {background-color: white;}#sk-container-id-4 label.sk-toggleable__label {cursor: pointer;display: block;width: 100%;margin-bottom: 0;padding: 0.3em;box-sizing: border-box;text-align: center;}#sk-container-id-4 label.sk-toggleable__label-arrow:before {content: \"▸\";float: left;margin-right: 0.25em;color: #696969;}#sk-container-id-4 label.sk-toggleable__label-arrow:hover:before {color: black;}#sk-container-id-4 div.sk-estimator:hover label.sk-toggleable__label-arrow:before {color: black;}#sk-container-id-4 div.sk-toggleable__content {max-height: 0;max-width: 0;overflow: hidden;text-align: left;background-color: #f0f8ff;}#sk-container-id-4 div.sk-toggleable__content pre {margin: 0.2em;color: black;border-radius: 0.25em;background-color: #f0f8ff;}#sk-container-id-4 input.sk-toggleable__control:checked~div.sk-toggleable__content {max-height: 200px;max-width: 100%;overflow: auto;}#sk-container-id-4 input.sk-toggleable__control:checked~label.sk-toggleable__label-arrow:before {content: \"▾\";}#sk-container-id-4 div.sk-estimator input.sk-toggleable__control:checked~label.sk-toggleable__label {background-color: #d4ebff;}#sk-container-id-4 div.sk-label input.sk-toggleable__control:checked~label.sk-toggleable__label {background-color: #d4ebff;}#sk-container-id-4 input.sk-hidden--visually {border: 0;clip: rect(1px 1px 1px 1px);clip: rect(1px, 1px, 1px, 1px);height: 1px;margin: -1px;overflow: hidden;padding: 0;position: absolute;width: 1px;}#sk-container-id-4 div.sk-estimator {font-family: monospace;background-color: #f0f8ff;border: 1px dotted black;border-radius: 0.25em;box-sizing: border-box;margin-bottom: 0.5em;}#sk-container-id-4 div.sk-estimator:hover {background-color: #d4ebff;}#sk-container-id-4 div.sk-parallel-item::after {content: \"\";width: 100%;border-bottom: 1px solid gray;flex-grow: 1;}#sk-container-id-4 div.sk-label:hover label.sk-toggleable__label {background-color: #d4ebff;}#sk-container-id-4 div.sk-serial::before {content: \"\";position: absolute;border-left: 1px solid gray;box-sizing: border-box;top: 0;bottom: 0;left: 50%;z-index: 0;}#sk-container-id-4 div.sk-serial {display: flex;flex-direction: column;align-items: center;background-color: white;padding-right: 0.2em;padding-left: 0.2em;position: relative;}#sk-container-id-4 div.sk-item {position: relative;z-index: 1;}#sk-container-id-4 div.sk-parallel {display: flex;align-items: stretch;justify-content: center;background-color: white;position: relative;}#sk-container-id-4 div.sk-item::before, #sk-container-id-4 div.sk-parallel-item::before {content: \"\";position: absolute;border-left: 1px solid gray;box-sizing: border-box;top: 0;bottom: 0;left: 50%;z-index: -1;}#sk-container-id-4 div.sk-parallel-item {display: flex;flex-direction: column;z-index: 1;position: relative;background-color: white;}#sk-container-id-4 div.sk-parallel-item:first-child::after {align-self: flex-end;width: 50%;}#sk-container-id-4 div.sk-parallel-item:last-child::after {align-self: flex-start;width: 50%;}#sk-container-id-4 div.sk-parallel-item:only-child::after {width: 0;}#sk-container-id-4 div.sk-dashed-wrapped {border: 1px dashed gray;margin: 0 0.4em 0.5em 0.4em;box-sizing: border-box;padding-bottom: 0.4em;background-color: white;}#sk-container-id-4 div.sk-label label {font-family: monospace;font-weight: bold;display: inline-block;line-height: 1.2em;}#sk-container-id-4 div.sk-label-container {text-align: center;}#sk-container-id-4 div.sk-container {/* jupyter's `normalize.less` sets `[hidden] { display: none; }` but bootstrap.min.css set `[hidden] { display: none !important; }` so we also need the `!important` here to be able to override the default hidden behavior on the sphinx rendered scikit-learn.org. See: https://github.com/scikit-learn/scikit-learn/issues/21755 */display: inline-block !important;position: relative;}#sk-container-id-4 div.sk-text-repr-fallback {display: none;}</style><div id=\"sk-container-id-4\" class=\"sk-top-container\"><div class=\"sk-text-repr-fallback\"><pre>NearestNeighbors(metric=&#x27;cosine&#x27;, n_neighbors=6)</pre><b>In a Jupyter environment, please rerun this cell to show the HTML representation or trust the notebook. <br />On GitHub, the HTML representation is unable to render, please try loading this page with nbviewer.org.</b></div><div class=\"sk-container\" hidden><div class=\"sk-item\"><div class=\"sk-estimator sk-toggleable\"><input class=\"sk-toggleable__control sk-hidden--visually\" id=\"sk-estimator-id-4\" type=\"checkbox\" checked><label for=\"sk-estimator-id-4\" class=\"sk-toggleable__label sk-toggleable__label-arrow\">NearestNeighbors</label><div class=\"sk-toggleable__content\"><pre>NearestNeighbors(metric=&#x27;cosine&#x27;, n_neighbors=6)</pre></div></div></div></div></div>"
      ],
      "text/plain": [
       "NearestNeighbors(metric='cosine', n_neighbors=6)"
      ]
     },
     "execution_count": 139,
     "metadata": {},
     "output_type": "execute_result"
    }
   ],
   "source": [
    "neighbors.fit(ratings_train)"
   ]
  },
  {
   "cell_type": "code",
   "execution_count": 140,
   "id": "e1c9276b",
   "metadata": {},
   "outputs": [],
   "source": [
    "top_k_distances, top_k_users = neighbors.kneighbors(ratings_train, return_distance= True) #En resumen, después de ejecutar este código, tendrás acceso a las distancias y los índices de los k vecinos más cercanos para cada usuario en función de sus interacciones registradas en la matriz ratings_train"
   ]
  },
  {
   "cell_type": "code",
   "execution_count": 141,
   "id": "e8007547",
   "metadata": {},
   "outputs": [
    {
     "data": {
      "text/plain": [
       "(660, 6)"
      ]
     },
     "execution_count": 141,
     "metadata": {},
     "output_type": "execute_result"
    }
   ],
   "source": [
    "top_k_distances.shape"
   ]
  },
  {
   "cell_type": "code",
   "execution_count": 142,
   "id": "079187bd",
   "metadata": {},
   "outputs": [
    {
     "data": {
      "text/plain": [
       "array([0.        , 0.49780748, 0.55784838, 0.56965585, 0.57163621,\n",
       "       0.57520588])"
      ]
     },
     "execution_count": 142,
     "metadata": {},
     "output_type": "execute_result"
    }
   ],
   "source": [
    "top_k_distances[0]"
   ]
  },
  {
   "cell_type": "code",
   "execution_count": 143,
   "id": "17e98cec",
   "metadata": {},
   "outputs": [
    {
     "data": {
      "text/plain": [
       "array([  0, 211,  16, 185, 101, 155], dtype=int64)"
      ]
     },
     "execution_count": 143,
     "metadata": {},
     "output_type": "execute_result"
    }
   ],
   "source": [
    "top_k_users[0]"
   ]
  },
  {
   "cell_type": "code",
   "execution_count": 144,
   "id": "6740c3ff",
   "metadata": {},
   "outputs": [],
   "source": [
    "users_predicts_k = np.zeros(ratings_train.shape)"
   ]
  },
  {
   "cell_type": "code",
   "execution_count": 145,
   "id": "c7fe178c",
   "metadata": {},
   "outputs": [
    {
     "data": {
      "text/plain": [
       "array([[0., 0., 0., ..., 0., 0., 0.],\n",
       "       [0., 0., 0., ..., 0., 0., 0.],\n",
       "       [0., 0., 0., ..., 0., 0., 0.],\n",
       "       ...,\n",
       "       [0., 0., 0., ..., 0., 0., 0.],\n",
       "       [0., 0., 0., ..., 0., 0., 0.],\n",
       "       [0., 0., 0., ..., 0., 0., 0.]])"
      ]
     },
     "execution_count": 145,
     "metadata": {},
     "output_type": "execute_result"
    }
   ],
   "source": [
    "users_predicts_k"
   ]
  },
  {
   "cell_type": "code",
   "execution_count": 146,
   "id": "7883f907",
   "metadata": {},
   "outputs": [],
   "source": [
    "for i in range(ratings_train.shape[0]):\n",
    "    users_predicts_k[i, :] = top_k_distances[i].T.dot(ratings_train[top_k_users][i]) / np.array([np.abs(top_k_distances[i].T).sum(axis=0)]).T#El bucle recorre cada usuario en ratings_train y calcula las predicciones de calificación basadas en la similitud con sus vecinos más cercanos. Las predicciones se almacenan en users_predicts_k, donde cada fila corresponde a un usuario y cada columna corresponde a un ítem."
   ]
  },
  {
   "cell_type": "code",
   "execution_count": 147,
   "id": "6f3d0fb7",
   "metadata": {},
   "outputs": [
    {
     "data": {
      "text/plain": [
       "(660, 1682)"
      ]
     },
     "execution_count": 147,
     "metadata": {},
     "output_type": "execute_result"
    }
   ],
   "source": [
    "users_predicts_k.shape"
   ]
  },
  {
   "cell_type": "code",
   "execution_count": 148,
   "id": "45bbbea0",
   "metadata": {},
   "outputs": [
    {
     "data": {
      "text/plain": [
       "array([0.82997687, 0.82997687, 0.        , ..., 0.        , 0.        ,\n",
       "       0.        ])"
      ]
     },
     "execution_count": 148,
     "metadata": {},
     "output_type": "execute_result"
    }
   ],
   "source": [
    "users_predicts_k[0]"
   ]
  },
  {
   "cell_type": "code",
   "execution_count": 149,
   "id": "61e2a57b",
   "metadata": {},
   "outputs": [
    {
     "data": {
      "text/plain": [
       "4.305247677720045"
      ]
     },
     "execution_count": 149,
     "metadata": {},
     "output_type": "execute_result"
    }
   ],
   "source": [
    "get_mse(users_predicts_k, ratings_train)#utiliza la función get_mse que definiste previamente para calcular el error cuadrático medio (MSE) entre las predicciones (users_predicts_k) y las calificaciones de entrenamiento (ratings_train) basadas en el enfoque de filtrado colaborativo utilizando vecinos cercanos."
   ]
  },
  {
   "cell_type": "markdown",
   "id": "660c12a9",
   "metadata": {},
   "source": [
    "## Practica 25: Filtro colaborativo basado en items"
   ]
  },
  {
   "cell_type": "code",
   "execution_count": 177,
   "id": "b6ea3069",
   "metadata": {},
   "outputs": [
    {
     "data": {
      "text/plain": [
       "1682"
      ]
     },
     "execution_count": 177,
     "metadata": {},
     "output_type": "execute_result"
    }
   ],
   "source": [
    "n_movies = ratings_train.shape[1]\n",
    "n_movies#a variable n_movies se utiliza para almacenar el número de ítems (películas en este caso) en la matriz de calificaciones ratings_train. La dimensión ratings_train.shape[1] se refiere al número de columnas en la matriz, que corresponde a la cantidad de ítems."
   ]
  },
  {
   "cell_type": "code",
   "execution_count": 178,
   "id": "4389d6c7",
   "metadata": {},
   "outputs": [],
   "source": [
    "neighbors_item = NearestNeighbors(n_neighbors=n_movies, metric='cosine')#Esta configuración puede ser útil para encontrar ítems similares basados en la similitud de contenido (características, atributos) en lugar de similitudes entre usuarios. Es común en sistemas de recomendación que combinen enfoques de vecinos cercanos tanto para usuarios como para ítems, a fin de proporcionar recomendaciones más completas y precisas."
   ]
  },
  {
   "cell_type": "code",
   "execution_count": 179,
   "id": "972946c8",
   "metadata": {
    "scrolled": true
   },
   "outputs": [
    {
     "data": {
      "text/html": [
       "<style>#sk-container-id-6 {color: black;background-color: white;}#sk-container-id-6 pre{padding: 0;}#sk-container-id-6 div.sk-toggleable {background-color: white;}#sk-container-id-6 label.sk-toggleable__label {cursor: pointer;display: block;width: 100%;margin-bottom: 0;padding: 0.3em;box-sizing: border-box;text-align: center;}#sk-container-id-6 label.sk-toggleable__label-arrow:before {content: \"▸\";float: left;margin-right: 0.25em;color: #696969;}#sk-container-id-6 label.sk-toggleable__label-arrow:hover:before {color: black;}#sk-container-id-6 div.sk-estimator:hover label.sk-toggleable__label-arrow:before {color: black;}#sk-container-id-6 div.sk-toggleable__content {max-height: 0;max-width: 0;overflow: hidden;text-align: left;background-color: #f0f8ff;}#sk-container-id-6 div.sk-toggleable__content pre {margin: 0.2em;color: black;border-radius: 0.25em;background-color: #f0f8ff;}#sk-container-id-6 input.sk-toggleable__control:checked~div.sk-toggleable__content {max-height: 200px;max-width: 100%;overflow: auto;}#sk-container-id-6 input.sk-toggleable__control:checked~label.sk-toggleable__label-arrow:before {content: \"▾\";}#sk-container-id-6 div.sk-estimator input.sk-toggleable__control:checked~label.sk-toggleable__label {background-color: #d4ebff;}#sk-container-id-6 div.sk-label input.sk-toggleable__control:checked~label.sk-toggleable__label {background-color: #d4ebff;}#sk-container-id-6 input.sk-hidden--visually {border: 0;clip: rect(1px 1px 1px 1px);clip: rect(1px, 1px, 1px, 1px);height: 1px;margin: -1px;overflow: hidden;padding: 0;position: absolute;width: 1px;}#sk-container-id-6 div.sk-estimator {font-family: monospace;background-color: #f0f8ff;border: 1px dotted black;border-radius: 0.25em;box-sizing: border-box;margin-bottom: 0.5em;}#sk-container-id-6 div.sk-estimator:hover {background-color: #d4ebff;}#sk-container-id-6 div.sk-parallel-item::after {content: \"\";width: 100%;border-bottom: 1px solid gray;flex-grow: 1;}#sk-container-id-6 div.sk-label:hover label.sk-toggleable__label {background-color: #d4ebff;}#sk-container-id-6 div.sk-serial::before {content: \"\";position: absolute;border-left: 1px solid gray;box-sizing: border-box;top: 0;bottom: 0;left: 50%;z-index: 0;}#sk-container-id-6 div.sk-serial {display: flex;flex-direction: column;align-items: center;background-color: white;padding-right: 0.2em;padding-left: 0.2em;position: relative;}#sk-container-id-6 div.sk-item {position: relative;z-index: 1;}#sk-container-id-6 div.sk-parallel {display: flex;align-items: stretch;justify-content: center;background-color: white;position: relative;}#sk-container-id-6 div.sk-item::before, #sk-container-id-6 div.sk-parallel-item::before {content: \"\";position: absolute;border-left: 1px solid gray;box-sizing: border-box;top: 0;bottom: 0;left: 50%;z-index: -1;}#sk-container-id-6 div.sk-parallel-item {display: flex;flex-direction: column;z-index: 1;position: relative;background-color: white;}#sk-container-id-6 div.sk-parallel-item:first-child::after {align-self: flex-end;width: 50%;}#sk-container-id-6 div.sk-parallel-item:last-child::after {align-self: flex-start;width: 50%;}#sk-container-id-6 div.sk-parallel-item:only-child::after {width: 0;}#sk-container-id-6 div.sk-dashed-wrapped {border: 1px dashed gray;margin: 0 0.4em 0.5em 0.4em;box-sizing: border-box;padding-bottom: 0.4em;background-color: white;}#sk-container-id-6 div.sk-label label {font-family: monospace;font-weight: bold;display: inline-block;line-height: 1.2em;}#sk-container-id-6 div.sk-label-container {text-align: center;}#sk-container-id-6 div.sk-container {/* jupyter's `normalize.less` sets `[hidden] { display: none; }` but bootstrap.min.css set `[hidden] { display: none !important; }` so we also need the `!important` here to be able to override the default hidden behavior on the sphinx rendered scikit-learn.org. See: https://github.com/scikit-learn/scikit-learn/issues/21755 */display: inline-block !important;position: relative;}#sk-container-id-6 div.sk-text-repr-fallback {display: none;}</style><div id=\"sk-container-id-6\" class=\"sk-top-container\"><div class=\"sk-text-repr-fallback\"><pre>NearestNeighbors(metric=&#x27;cosine&#x27;, n_neighbors=1682)</pre><b>In a Jupyter environment, please rerun this cell to show the HTML representation or trust the notebook. <br />On GitHub, the HTML representation is unable to render, please try loading this page with nbviewer.org.</b></div><div class=\"sk-container\" hidden><div class=\"sk-item\"><div class=\"sk-estimator sk-toggleable\"><input class=\"sk-toggleable__control sk-hidden--visually\" id=\"sk-estimator-id-6\" type=\"checkbox\" checked><label for=\"sk-estimator-id-6\" class=\"sk-toggleable__label sk-toggleable__label-arrow\">NearestNeighbors</label><div class=\"sk-toggleable__content\"><pre>NearestNeighbors(metric=&#x27;cosine&#x27;, n_neighbors=1682)</pre></div></div></div></div></div>"
      ],
      "text/plain": [
       "NearestNeighbors(metric='cosine', n_neighbors=1682)"
      ]
     },
     "execution_count": 179,
     "metadata": {},
     "output_type": "execute_result"
    }
   ],
   "source": [
    "neighbors_item.fit(ratings_train.T)#se utiliza para ajustar (entrenar) el modelo de búsqueda de vecinos cercanos (neighbors_item) utilizando la matriz de calificaciones transpuesta (ratings_train.T). En este caso, estás ajustando el modelo para encontrar vecinos cercanos basados en la similitud del coseno entre los ítems."
   ]
  },
  {
   "cell_type": "code",
   "execution_count": 183,
   "id": "0ad4fd52",
   "metadata": {},
   "outputs": [],
   "source": [
    "top_k_distances, top_k_item = neighbors_item.kneighbors(ratings_train.T, return_distance=True)#e utiliza para encontrar los k ítems más cercanos para cada ítem en función de la similitud del coseno utilizando la instancia neighbors_item de la clase NearestNeighbors. También almacena las distancias correspondientes a esos ítems más cercanos en la matriz top_k_distances y los índices de los ítems vecinos en la matriz top_k_item.En resumen, después de ejecutar este código, tendrás acceso a las distancias y los índices de los k ítems más cercanos para cada ítem en función de la similitud del coseno utilizando el enfoque de vecinos más cercanos para ítems. Esto puede ser útil para identificar ítems similares a un ítem dado en función de sus características o atributos."
   ]
  },
  {
   "cell_type": "code",
   "execution_count": 184,
   "id": "5930da61",
   "metadata": {
    "scrolled": true
   },
   "outputs": [
    {
     "data": {
      "text/plain": [
       "(1682, 1682)"
      ]
     },
     "execution_count": 184,
     "metadata": {},
     "output_type": "execute_result"
    }
   ],
   "source": [
    "top_k_distances.shape"
   ]
  },
  {
   "cell_type": "code",
   "execution_count": 185,
   "id": "8c1ec573",
   "metadata": {},
   "outputs": [
    {
     "data": {
      "text/plain": [
       "array([[   0,   49,  180, ..., 1589, 1602, 1679],\n",
       "       [   1,  232,  160, ..., 1323, 1338, 1679],\n",
       "       [   2,  762,  409, ..., 1433, 1103, 1680],\n",
       "       ...,\n",
       "       [   0, 1127, 1126, ...,  553,  577, 1681],\n",
       "       [1671, 1680, 1422, ...,  735,  747, 1681],\n",
       "       [1681, 1596,  766, ...,  700,  715, 1680]], dtype=int64)"
      ]
     },
     "execution_count": 185,
     "metadata": {},
     "output_type": "execute_result"
    }
   ],
   "source": [
    "top_k_item"
   ]
  },
  {
   "cell_type": "code",
   "execution_count": 186,
   "id": "bf561500",
   "metadata": {},
   "outputs": [
    {
     "data": {
      "text/plain": [
       "array([[   0,   49,  180, ..., 1589, 1602, 1679],\n",
       "       [   1,  232,  160, ..., 1323, 1338, 1679],\n",
       "       [   2,  762,  409, ..., 1433, 1103, 1680],\n",
       "       ...,\n",
       "       [   0, 1127, 1126, ...,  553,  577, 1681],\n",
       "       [1671, 1680, 1422, ...,  735,  747, 1681],\n",
       "       [1681, 1596,  766, ...,  700,  715, 1680]], dtype=int64)"
      ]
     },
     "execution_count": 186,
     "metadata": {},
     "output_type": "execute_result"
    }
   ],
   "source": [
    "top_k_item"
   ]
  },
  {
   "cell_type": "code",
   "execution_count": 187,
   "id": "d495d937",
   "metadata": {},
   "outputs": [],
   "source": [
    "item_predicts_k = np.zeros(ratings_train.shape)#se utiliza para crear una matriz de ceros del mismo tamaño que la matriz de calificaciones ratings_train. La variable item_predicts_k se utiliza para almacenar las predicciones de calificación basadas en el enfoque de vecinos cercanos para ítems."
   ]
  },
  {
   "cell_type": "code",
   "execution_count": 188,
   "id": "17542e61",
   "metadata": {},
   "outputs": [],
   "source": [
    "item_preds = ratings_train.dot(top_k_distances) / np.array([np.abs(top_k_distances).sum(axis=0)]) #En resumen, este código calcula las predicciones de calificación para los ítems basadas en el enfoque de vecinos cercanos para ítems. Cada predicción se basa en la calificación de los usuarios y la similitud de los vecinos cercanos para el ítem correspondiente. Estas predicciones se almacenan en la matriz item_preds, donde cada fila representa un usuario y cada columna representa un ítem."
   ]
  },
  {
   "cell_type": "code",
   "execution_count": 189,
   "id": "db4339d2",
   "metadata": {},
   "outputs": [
    {
     "data": {
      "text/plain": [
       "(660, 1682)"
      ]
     },
     "execution_count": 189,
     "metadata": {},
     "output_type": "execute_result"
    }
   ],
   "source": [
    "item_preds.shape"
   ]
  },
  {
   "cell_type": "code",
   "execution_count": 190,
   "id": "1bc49e2f",
   "metadata": {
    "scrolled": true
   },
   "outputs": [
    {
     "data": {
      "text/plain": [
       "array([[5.33714487e-15, 3.42801621e-01, 3.37477976e-01, ...,\n",
       "        3.53151011e-01, 3.53151011e-01, 3.53151011e-01],\n",
       "       [9.12401468e-16, 5.22904770e-02, 5.02599254e-02, ...,\n",
       "        4.81569560e-02, 4.81569560e-02, 4.81569560e-02],\n",
       "       [5.20795528e-16, 4.85145238e-02, 4.89878817e-02, ...,\n",
       "        4.45897741e-02, 4.45897741e-02, 4.45897741e-02],\n",
       "       ...,\n",
       "       [8.61936785e-16, 1.19824566e-01, 1.13815167e-01, ...,\n",
       "        1.02259215e-01, 1.02259215e-01, 1.02259215e-01],\n",
       "       [3.87366906e-15, 3.16793536e-01, 3.07447289e-01, ...,\n",
       "        3.23424495e-01, 3.23424495e-01, 3.23424495e-01],\n",
       "       [9.72959087e-16, 4.77186390e-02, 4.76641345e-02, ...,\n",
       "        6.24256837e-02, 6.24256837e-02, 6.24256837e-02]])"
      ]
     },
     "execution_count": 190,
     "metadata": {},
     "output_type": "execute_result"
    }
   ],
   "source": [
    "item_preds"
   ]
  },
  {
   "cell_type": "code",
   "execution_count": 191,
   "id": "4d3a42c4",
   "metadata": {},
   "outputs": [
    {
     "data": {
      "text/plain": [
       "11.410985305611401"
      ]
     },
     "execution_count": 191,
     "metadata": {},
     "output_type": "execute_result"
    }
   ],
   "source": [
    "get_mse(items_preds, ratings_train)"
   ]
  },
  {
   "cell_type": "markdown",
   "id": "0fc170b5",
   "metadata": {},
   "source": [
    "## Practica 26: Filtro colaborativo basado en KNN(items)\n"
   ]
  },
  {
   "cell_type": "code",
   "execution_count": 192,
   "id": "772c01d3",
   "metadata": {},
   "outputs": [],
   "source": [
    "k=30\n",
    "neighbors_items = NearestNeighbors(n_neighbors=k, metric='cosine')\n",
    "neighbors_items.fit(ratings_train.T)\n",
    "top_k_distances, top_k_items = neighbors_items.kneighbors(ratings_train.T, return_distance=True)#este código realiza una búsqueda de vecinos cercanos para los ítems utilizando la similitud del coseno como métrica. Luego, almacena las distancias y los índices de los ítems vecinos más cercanos en las variables top_k_distances y top_k_items, respectivamente. Esto puede ser útil para identificar ítems similares a otros ítems en función de la similitud de sus características o atributos."
   ]
  },
  {
   "cell_type": "code",
   "execution_count": 193,
   "id": "5806c332",
   "metadata": {},
   "outputs": [
    {
     "data": {
      "text/plain": [
       "(1682, 30)"
      ]
     },
     "execution_count": 193,
     "metadata": {},
     "output_type": "execute_result"
    }
   ],
   "source": [
    "top_k_distances.shape"
   ]
  },
  {
   "cell_type": "code",
   "execution_count": 197,
   "id": "ebfe745a",
   "metadata": {},
   "outputs": [
    {
     "data": {
      "text/plain": [
       "array([385, 576,  79, 400,  93, 390, 383, 558,  66,  89,  61, 394, 402,\n",
       "       540,  71, 384, 153,  67, 553, 779, 398, 185,  28, 366, 230, 216,\n",
       "       430, 167,  90, 392], dtype=int64)"
      ]
     },
     "execution_count": 197,
     "metadata": {},
     "output_type": "execute_result"
    }
   ],
   "source": [
    "top_k_items[385]"
   ]
  },
  {
   "cell_type": "code",
   "execution_count": 195,
   "id": "9cb1931c",
   "metadata": {},
   "outputs": [
    {
     "data": {
      "text/plain": [
       "array([1.99840144e-15, 2.76298092e-01, 3.01133276e-01, 3.04727128e-01,\n",
       "       3.40321695e-01, 3.47263317e-01, 3.55362834e-01, 3.57212641e-01,\n",
       "       3.61361048e-01, 3.68666565e-01, 3.73298848e-01, 3.84281189e-01,\n",
       "       3.95747205e-01, 3.97376861e-01, 4.00149107e-01, 4.00728016e-01,\n",
       "       4.01613825e-01, 4.03529348e-01, 4.04510017e-01, 4.16455882e-01,\n",
       "       4.21432410e-01, 4.24757468e-01, 4.26546246e-01, 4.27642772e-01,\n",
       "       4.28527251e-01, 4.30397179e-01, 4.30995003e-01, 4.33900985e-01,\n",
       "       4.34947303e-01, 4.35588203e-01])"
      ]
     },
     "execution_count": 195,
     "metadata": {},
     "output_type": "execute_result"
    }
   ],
   "source": [
    "top_k_distances[0]"
   ]
  }
 ],
 "metadata": {
  "kernelspec": {
   "display_name": "Python 3 (ipykernel)",
   "language": "python",
   "name": "python3"
  },
  "language_info": {
   "codemirror_mode": {
    "name": "ipython",
    "version": 3
   },
   "file_extension": ".py",
   "mimetype": "text/x-python",
   "name": "python",
   "nbconvert_exporter": "python",
   "pygments_lexer": "ipython3",
   "version": "3.10.9"
  }
 },
 "nbformat": 4,
 "nbformat_minor": 5
}
